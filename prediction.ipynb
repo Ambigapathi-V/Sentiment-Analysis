{
 "cells": [
  {
   "cell_type": "code",
   "execution_count": 4,
   "metadata": {},
   "outputs": [],
   "source": [
    "import numpy as np\n",
    "import tensorflow as tf\n",
    "from tensorflow.keras.datasets import imdb\n",
    "from tensorflow.keras.preprocessing import sequence\n",
    "from tensorflow.keras.models import load_model"
   ]
  },
  {
   "cell_type": "code",
   "execution_count": 5,
   "metadata": {},
   "outputs": [],
   "source": [
    "word_index = imdb.get_word_index()\n",
    "reverese_word_index = {value: key for key ,value in word_index.items()} \n"
   ]
  },
  {
   "cell_type": "code",
   "execution_count": 9,
   "metadata": {},
   "outputs": [
    {
     "name": "stderr",
     "output_type": "stream",
     "text": [
      "WARNING:absl:Compiled the loaded model, but the compiled metrics have yet to be built. `model.compile_metrics` will be empty until you train or evaluate the model.\n"
     ]
    },
    {
     "data": {
      "text/html": [
       "<pre style=\"white-space:pre;overflow-x:auto;line-height:normal;font-family:Menlo,'DejaVu Sans Mono',consolas,'Courier New',monospace\"><span style=\"font-weight: bold\">Model: \"sequential_14\"</span>\n",
       "</pre>\n"
      ],
      "text/plain": [
       "\u001b[1mModel: \"sequential_14\"\u001b[0m\n"
      ]
     },
     "metadata": {},
     "output_type": "display_data"
    },
    {
     "data": {
      "text/html": [
       "<pre style=\"white-space:pre;overflow-x:auto;line-height:normal;font-family:Menlo,'DejaVu Sans Mono',consolas,'Courier New',monospace\">┏━━━━━━━━━━━━━━━━━━━━━━━━━━━━━━━━━┳━━━━━━━━━━━━━━━━━━━━━━━━┳━━━━━━━━━━━━━━━┓\n",
       "┃<span style=\"font-weight: bold\"> Layer (type)                    </span>┃<span style=\"font-weight: bold\"> Output Shape           </span>┃<span style=\"font-weight: bold\">       Param # </span>┃\n",
       "┡━━━━━━━━━━━━━━━━━━━━━━━━━━━━━━━━━╇━━━━━━━━━━━━━━━━━━━━━━━━╇━━━━━━━━━━━━━━━┩\n",
       "│ embedding_14 (<span style=\"color: #0087ff; text-decoration-color: #0087ff\">Embedding</span>)        │ (<span style=\"color: #00af00; text-decoration-color: #00af00\">32</span>, <span style=\"color: #00af00; text-decoration-color: #00af00\">500</span>, <span style=\"color: #00af00; text-decoration-color: #00af00\">128</span>)         │     <span style=\"color: #00af00; text-decoration-color: #00af00\">1,280,000</span> │\n",
       "├─────────────────────────────────┼────────────────────────┼───────────────┤\n",
       "│ simple_rnn_12 (<span style=\"color: #0087ff; text-decoration-color: #0087ff\">SimpleRNN</span>)       │ (<span style=\"color: #00af00; text-decoration-color: #00af00\">32</span>, <span style=\"color: #00af00; text-decoration-color: #00af00\">128</span>)              │        <span style=\"color: #00af00; text-decoration-color: #00af00\">32,896</span> │\n",
       "├─────────────────────────────────┼────────────────────────┼───────────────┤\n",
       "│ dense_12 (<span style=\"color: #0087ff; text-decoration-color: #0087ff\">Dense</span>)                │ (<span style=\"color: #00af00; text-decoration-color: #00af00\">32</span>, <span style=\"color: #00af00; text-decoration-color: #00af00\">1</span>)                │           <span style=\"color: #00af00; text-decoration-color: #00af00\">129</span> │\n",
       "└─────────────────────────────────┴────────────────────────┴───────────────┘\n",
       "</pre>\n"
      ],
      "text/plain": [
       "┏━━━━━━━━━━━━━━━━━━━━━━━━━━━━━━━━━┳━━━━━━━━━━━━━━━━━━━━━━━━┳━━━━━━━━━━━━━━━┓\n",
       "┃\u001b[1m \u001b[0m\u001b[1mLayer (type)                   \u001b[0m\u001b[1m \u001b[0m┃\u001b[1m \u001b[0m\u001b[1mOutput Shape          \u001b[0m\u001b[1m \u001b[0m┃\u001b[1m \u001b[0m\u001b[1m      Param #\u001b[0m\u001b[1m \u001b[0m┃\n",
       "┡━━━━━━━━━━━━━━━━━━━━━━━━━━━━━━━━━╇━━━━━━━━━━━━━━━━━━━━━━━━╇━━━━━━━━━━━━━━━┩\n",
       "│ embedding_14 (\u001b[38;5;33mEmbedding\u001b[0m)        │ (\u001b[38;5;34m32\u001b[0m, \u001b[38;5;34m500\u001b[0m, \u001b[38;5;34m128\u001b[0m)         │     \u001b[38;5;34m1,280,000\u001b[0m │\n",
       "├─────────────────────────────────┼────────────────────────┼───────────────┤\n",
       "│ simple_rnn_12 (\u001b[38;5;33mSimpleRNN\u001b[0m)       │ (\u001b[38;5;34m32\u001b[0m, \u001b[38;5;34m128\u001b[0m)              │        \u001b[38;5;34m32,896\u001b[0m │\n",
       "├─────────────────────────────────┼────────────────────────┼───────────────┤\n",
       "│ dense_12 (\u001b[38;5;33mDense\u001b[0m)                │ (\u001b[38;5;34m32\u001b[0m, \u001b[38;5;34m1\u001b[0m)                │           \u001b[38;5;34m129\u001b[0m │\n",
       "└─────────────────────────────────┴────────────────────────┴───────────────┘\n"
      ]
     },
     "metadata": {},
     "output_type": "display_data"
    },
    {
     "data": {
      "text/html": [
       "<pre style=\"white-space:pre;overflow-x:auto;line-height:normal;font-family:Menlo,'DejaVu Sans Mono',consolas,'Courier New',monospace\"><span style=\"font-weight: bold\"> Total params: </span><span style=\"color: #00af00; text-decoration-color: #00af00\">1,313,027</span> (5.01 MB)\n",
       "</pre>\n"
      ],
      "text/plain": [
       "\u001b[1m Total params: \u001b[0m\u001b[38;5;34m1,313,027\u001b[0m (5.01 MB)\n"
      ]
     },
     "metadata": {},
     "output_type": "display_data"
    },
    {
     "data": {
      "text/html": [
       "<pre style=\"white-space:pre;overflow-x:auto;line-height:normal;font-family:Menlo,'DejaVu Sans Mono',consolas,'Courier New',monospace\"><span style=\"font-weight: bold\"> Trainable params: </span><span style=\"color: #00af00; text-decoration-color: #00af00\">1,313,025</span> (5.01 MB)\n",
       "</pre>\n"
      ],
      "text/plain": [
       "\u001b[1m Trainable params: \u001b[0m\u001b[38;5;34m1,313,025\u001b[0m (5.01 MB)\n"
      ]
     },
     "metadata": {},
     "output_type": "display_data"
    },
    {
     "data": {
      "text/html": [
       "<pre style=\"white-space:pre;overflow-x:auto;line-height:normal;font-family:Menlo,'DejaVu Sans Mono',consolas,'Courier New',monospace\"><span style=\"font-weight: bold\"> Non-trainable params: </span><span style=\"color: #00af00; text-decoration-color: #00af00\">0</span> (0.00 B)\n",
       "</pre>\n"
      ],
      "text/plain": [
       "\u001b[1m Non-trainable params: \u001b[0m\u001b[38;5;34m0\u001b[0m (0.00 B)\n"
      ]
     },
     "metadata": {},
     "output_type": "display_data"
    },
    {
     "data": {
      "text/html": [
       "<pre style=\"white-space:pre;overflow-x:auto;line-height:normal;font-family:Menlo,'DejaVu Sans Mono',consolas,'Courier New',monospace\"><span style=\"font-weight: bold\"> Optimizer params: </span><span style=\"color: #00af00; text-decoration-color: #00af00\">2</span> (12.00 B)\n",
       "</pre>\n"
      ],
      "text/plain": [
       "\u001b[1m Optimizer params: \u001b[0m\u001b[38;5;34m2\u001b[0m (12.00 B)\n"
      ]
     },
     "metadata": {},
     "output_type": "display_data"
    }
   ],
   "source": [
    "\n",
    "# Load th epretrained model with RELU activation\n",
    "model = load_model('simple_rnn_imbd.h5')\n",
    "model.summary()"
   ]
  },
  {
   "cell_type": "code",
   "execution_count": 10,
   "metadata": {},
   "outputs": [
    {
     "data": {
      "text/plain": [
       "[array([[ 0.48631823,  0.47013056, -0.09297048, ..., -0.5506681 ,\n",
       "         -0.39329126, -0.51782644],\n",
       "        [ 0.00898089, -0.04297073,  0.03706886, ..., -0.01800355,\n",
       "         -0.02690792,  0.04611486],\n",
       "        [-0.04200593,  0.06815301, -0.00793976, ...,  0.05640414,\n",
       "          0.06451697, -0.04226858],\n",
       "        ...,\n",
       "        [ 0.03688516,  0.08874568,  0.0082111 , ..., -0.01538592,\n",
       "          0.01121125,  0.01525389],\n",
       "        [-0.05040402,  0.0193242 ,  0.06631513, ..., -0.01669246,\n",
       "         -0.06159469, -0.03447505],\n",
       "        [ 0.07301715,  0.10597976, -0.01534062, ..., -0.03557656,\n",
       "          0.06070048,  0.03248602]], dtype=float32),\n",
       " array([[-0.16161765, -0.07539391,  0.00213975, ...,  0.14273408,\n",
       "         -0.02266262,  0.13060936],\n",
       "        [-0.09526071, -0.12202611, -0.1465226 , ...,  0.07386934,\n",
       "          0.14814559,  0.11916308],\n",
       "        [-0.02169783,  0.03489209, -0.03248272, ...,  0.10263516,\n",
       "          0.03414588,  0.01795466],\n",
       "        ...,\n",
       "        [-0.07357606, -0.12922165, -0.07039136, ...,  0.04055046,\n",
       "          0.01138738, -0.071408  ],\n",
       "        [-0.09028026,  0.06948706,  0.08500946, ..., -0.11780859,\n",
       "          0.08827292,  0.10557226],\n",
       "        [ 0.08168773, -0.04865166, -0.1001241 , ..., -0.04937341,\n",
       "          0.01291302,  0.01832452]], dtype=float32),\n",
       " array([[-0.04306924,  0.10199392, -0.08456843, ..., -0.0225253 ,\n",
       "         -0.02006452,  0.07530788],\n",
       "        [ 0.10818297, -0.08181593,  0.03981379, ...,  0.00807747,\n",
       "          0.10339524, -0.19706723],\n",
       "        [-0.05767413, -0.04689176,  0.08158328, ...,  0.1723757 ,\n",
       "         -0.00030217, -0.10001555],\n",
       "        ...,\n",
       "        [-0.14328472,  0.02270417, -0.13890716, ..., -0.06435116,\n",
       "         -0.01596876,  0.05346032],\n",
       "        [ 0.11649369,  0.01871082, -0.07947723, ...,  0.00109773,\n",
       "         -0.06715974, -0.00996511],\n",
       "        [-0.05015432,  0.08000156, -0.0451833 , ..., -0.10025861,\n",
       "          0.14046101,  0.03496819]], dtype=float32),\n",
       " array([-0.01425149, -0.02959334, -0.02283871, -0.01818859, -0.01500343,\n",
       "         0.02816508,  0.02236345, -0.02820569, -0.00062646,  0.02282924,\n",
       "         0.00296728, -0.02042091,  0.02159262,  0.02103757,  0.02686927,\n",
       "         0.00103208, -0.01108425,  0.00606697, -0.0137003 , -0.0210132 ,\n",
       "        -0.01084927,  0.01335959,  0.0109091 ,  0.00541307,  0.00681209,\n",
       "         0.01018612, -0.03598347, -0.01152509,  0.00410196,  0.00506624,\n",
       "         0.00157561, -0.01746195,  0.01951183, -0.01966794, -0.0210526 ,\n",
       "         0.02915279,  0.02530929, -0.00972919, -0.01039218,  0.00877615,\n",
       "        -0.0143504 ,  0.01487981, -0.02307068, -0.00324184,  0.0123744 ,\n",
       "        -0.03574571,  0.01925849, -0.01187733,  0.00455119,  0.01889673,\n",
       "        -0.02443721,  0.00884782,  0.00557171,  0.01553771,  0.0039707 ,\n",
       "         0.00297066, -0.01456592, -0.01334202, -0.0041013 ,  0.0202948 ,\n",
       "        -0.00105003, -0.00085561,  0.00604865, -0.0215852 ,  0.01788946,\n",
       "        -0.02413051,  0.02490847,  0.0321359 , -0.01159655, -0.02793244,\n",
       "         0.01367506, -0.00361964,  0.06258339, -0.01208407, -0.00477851,\n",
       "        -0.01007326,  0.02296504, -0.00780656, -0.01673529, -0.005492  ,\n",
       "        -0.00681091, -0.03276062, -0.04246912, -0.0037636 , -0.0013996 ,\n",
       "         0.02908958, -0.00889018, -0.02017608,  0.0063833 , -0.00614915,\n",
       "        -0.00581298,  0.0025461 , -0.00560495,  0.00752095, -0.00305806,\n",
       "        -0.01214841,  0.00962366,  0.00226048, -0.01166364, -0.01767602,\n",
       "         0.00174745, -0.00223813, -0.01106813, -0.00367207, -0.00444033,\n",
       "         0.02410254, -0.01934405,  0.01541746, -0.01738671,  0.01935367,\n",
       "         0.01136854, -0.00145618, -0.00082369,  0.03888967, -0.00802119,\n",
       "        -0.03086547,  0.00914636, -0.00633338,  0.02299467, -0.024232  ,\n",
       "        -0.0302046 , -0.0116432 , -0.01433253,  0.0007979 , -0.00840437,\n",
       "        -0.01316191,  0.00596871,  0.02642408], dtype=float32),\n",
       " array([[ 8.33755881e-02],\n",
       "        [ 9.02549848e-02],\n",
       "        [ 6.48356080e-02],\n",
       "        [ 1.56903993e-02],\n",
       "        [ 1.89344242e-01],\n",
       "        [-1.95618197e-01],\n",
       "        [-2.27240771e-01],\n",
       "        [ 1.47673100e-01],\n",
       "        [ 2.14375973e-01],\n",
       "        [ 2.70416647e-01],\n",
       "        [ 4.36774343e-01],\n",
       "        [ 1.58318236e-01],\n",
       "        [-6.99700117e-02],\n",
       "        [-1.93819195e-01],\n",
       "        [-2.50734419e-01],\n",
       "        [-2.36862406e-01],\n",
       "        [ 9.94189009e-02],\n",
       "        [ 1.76057145e-01],\n",
       "        [ 2.28544280e-01],\n",
       "        [ 5.45216575e-02],\n",
       "        [ 8.74845088e-02],\n",
       "        [ 1.97669908e-01],\n",
       "        [-2.10644379e-01],\n",
       "        [-6.21398054e-02],\n",
       "        [ 1.54938884e-02],\n",
       "        [ 2.10589111e-01],\n",
       "        [ 1.87829345e-01],\n",
       "        [ 2.23518312e-01],\n",
       "        [ 1.24422543e-01],\n",
       "        [ 1.60882562e-01],\n",
       "        [ 4.75160293e-02],\n",
       "        [-1.20800465e-01],\n",
       "        [-1.32812113e-01],\n",
       "        [ 1.26301169e-01],\n",
       "        [ 1.78604409e-01],\n",
       "        [ 2.24119633e-01],\n",
       "        [-1.84364229e-01],\n",
       "        [-1.75766170e-01],\n",
       "        [ 2.23590776e-01],\n",
       "        [-6.90727606e-02],\n",
       "        [-1.25262842e-01],\n",
       "        [ 7.39425197e-02],\n",
       "        [ 1.10279009e-01],\n",
       "        [ 2.44133752e-02],\n",
       "        [ 2.83124208e-01],\n",
       "        [ 1.63353309e-01],\n",
       "        [ 1.74091637e-01],\n",
       "        [ 1.74661845e-01],\n",
       "        [ 1.57578439e-01],\n",
       "        [-1.45504951e-01],\n",
       "        [ 5.10757565e-02],\n",
       "        [-7.62889348e-03],\n",
       "        [-1.01236820e-01],\n",
       "        [ 3.61395329e-02],\n",
       "        [-1.89645067e-01],\n",
       "        [ 1.23193778e-01],\n",
       "        [ 1.73923239e-01],\n",
       "        [ 1.65550575e-01],\n",
       "        [-1.82142645e-01],\n",
       "        [ 1.66725293e-01],\n",
       "        [ 1.04048766e-01],\n",
       "        [-1.54676691e-01],\n",
       "        [-2.14516521e-02],\n",
       "        [-5.82323372e-02],\n",
       "        [ 1.06328331e-01],\n",
       "        [ 1.25795886e-01],\n",
       "        [ 2.36407388e-02],\n",
       "        [-1.12317346e-01],\n",
       "        [ 3.90745163e-01],\n",
       "        [-4.84377630e-02],\n",
       "        [ 3.87028381e-02],\n",
       "        [ 4.05210316e-01],\n",
       "        [ 1.42337784e-01],\n",
       "        [-2.37784367e-02],\n",
       "        [ 5.81900030e-03],\n",
       "        [-3.81709673e-02],\n",
       "        [-1.44953057e-01],\n",
       "        [ 1.58615157e-01],\n",
       "        [ 1.30460054e-01],\n",
       "        [-7.09376782e-02],\n",
       "        [ 1.12403203e-02],\n",
       "        [-9.24336836e-02],\n",
       "        [ 3.32376450e-01],\n",
       "        [ 2.22661301e-01],\n",
       "        [ 2.20103770e-01],\n",
       "        [-1.20693885e-01],\n",
       "        [-5.17872861e-04],\n",
       "        [ 8.37997571e-02],\n",
       "        [ 1.45350434e-02],\n",
       "        [-1.88360527e-01],\n",
       "        [ 3.22042137e-01],\n",
       "        [-1.06103599e-01],\n",
       "        [ 2.25772977e-01],\n",
       "        [ 5.57846986e-02],\n",
       "        [-1.39023662e-01],\n",
       "        [ 1.32457450e-01],\n",
       "        [ 7.20474362e-01],\n",
       "        [ 5.11974275e-01],\n",
       "        [ 6.58573657e-02],\n",
       "        [ 7.81948268e-02],\n",
       "        [-4.81160736e-04],\n",
       "        [ 1.18203489e-02],\n",
       "        [-2.03384697e-01],\n",
       "        [ 1.12839274e-01],\n",
       "        [ 1.50553405e-01],\n",
       "        [-2.15687379e-02],\n",
       "        [-8.35655183e-02],\n",
       "        [ 9.13825110e-02],\n",
       "        [ 1.46732271e-01],\n",
       "        [ 4.87803621e-03],\n",
       "        [-1.20895930e-01],\n",
       "        [ 3.06615941e-02],\n",
       "        [-1.95639278e-03],\n",
       "        [-1.79146379e-01],\n",
       "        [ 3.02243888e-01],\n",
       "        [-6.24074833e-03],\n",
       "        [ 6.07457496e-02],\n",
       "        [-3.54204066e-02],\n",
       "        [-1.73103780e-01],\n",
       "        [ 2.28213891e-01],\n",
       "        [-1.55993626e-01],\n",
       "        [-6.63021803e-02],\n",
       "        [ 8.99962634e-02],\n",
       "        [-1.92725047e-01],\n",
       "        [ 1.47883549e-01],\n",
       "        [ 1.19476840e-01],\n",
       "        [ 1.08823016e-01],\n",
       "        [-9.96458605e-02]], dtype=float32),\n",
       " array([0.32269904], dtype=float32)]"
      ]
     },
     "execution_count": 10,
     "metadata": {},
     "output_type": "execute_result"
    }
   ],
   "source": [
    "model.get_weights()"
   ]
  },
  {
   "cell_type": "code",
   "execution_count": 11,
   "metadata": {},
   "outputs": [],
   "source": [
    "# Step 2: Helper Functions\n",
    "\n",
    "def decode_review(encoded_review):\n",
    "    return ' '.join([reverse_word_index.get(i - 3, '?') for i in encoded_review])\n",
    "\n",
    "# function to preprocess text user input\n",
    "\n",
    "def preprocess_text(text):\n",
    "    words = text.lower().split()\n",
    "    encoded_review = [word_index.get(word, 2) + 3 for word in words]\n",
    "    padded_review = sequence.pad_sequences([encoded_review], maxlen=500)\n",
    "    return padded_review\n"
   ]
  },
  {
   "cell_type": "code",
   "execution_count": 17,
   "metadata": {},
   "outputs": [],
   "source": [
    "## Prediction Function\n",
    "\n",
    "def predict_sentiment(review):\n",
    "    preprocess_input=preprocess_text(review)\n",
    "    \n",
    "    prediction = model.predict(preprocess_input)\n",
    "    \n",
    "    sentiment = 'Positive' if prediction[0][0] >0.5 else 'Negative'\n",
    "    \n",
    "    return sentiment,prediction[0][0]"
   ]
  },
  {
   "cell_type": "code",
   "execution_count": 18,
   "metadata": {},
   "outputs": [
    {
     "name": "stdout",
     "output_type": "stream",
     "text": [
      "\u001b[1m1/1\u001b[0m \u001b[32m━━━━━━━━━━━━━━━━━━━━\u001b[0m\u001b[37m\u001b[0m \u001b[1m0s\u001b[0m 322ms/step\n",
      "Review : This movie was fantastic! The acting was great and the plot was thrilling!\n",
      "Sentiment :  Positive\n",
      "Prediction Score : 0.9796035885810852\n"
     ]
    }
   ],
   "source": [
    "# Step 4: User Input and Prediction\n",
    "example_review = \"This movie was fantastic! The acting was great and the plot was thrilling!\"\n",
    "\n",
    "sentiment,score = predict_sentiment(example_review)\n",
    "\n",
    "print(f'Review : {example_review}')\n",
    "print(f'Sentiment :  {sentiment}')\n",
    "print(f'Prediction Score : {score}')"
   ]
  },
  {
   "cell_type": "code",
   "execution_count": null,
   "metadata": {},
   "outputs": [],
   "source": [
    "\n"
   ]
  }
 ],
 "metadata": {
  "kernelspec": {
   "display_name": "venv",
   "language": "python",
   "name": "python3"
  },
  "language_info": {
   "codemirror_mode": {
    "name": "ipython",
    "version": 3
   },
   "file_extension": ".py",
   "mimetype": "text/x-python",
   "name": "python",
   "nbconvert_exporter": "python",
   "pygments_lexer": "ipython3",
   "version": "3.12.4"
  }
 },
 "nbformat": 4,
 "nbformat_minor": 2
}
